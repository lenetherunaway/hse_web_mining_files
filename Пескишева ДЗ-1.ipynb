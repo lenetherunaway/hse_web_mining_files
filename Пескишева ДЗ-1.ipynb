{
 "cells": [
  {
   "cell_type": "markdown",
   "metadata": {},
   "source": [
    "Задача 1"
   ]
  },
  {
   "cell_type": "code",
   "execution_count": 1,
   "metadata": {},
   "outputs": [],
   "source": [
    "t = \"\"\"This little pig went to the market, \n",
    "This little pig stayed at home. \n",
    "This little pig had roast beef.\n",
    "This little pig had none. \n",
    "This little piggy had none. \n",
    "And this little piggy cried \"wee wee wee\" all the way home.\"\"\""
   ]
  },
  {
   "cell_type": "code",
   "execution_count": 2,
   "metadata": {},
   "outputs": [],
   "source": [
    "t = t.replace(',', '').replace('.', '').replace('\\n', ' ').replace('  ', ' ').replace('\"', '').replace('?', '').replace('!', '')\n",
    "t = t.lower()"
   ]
  },
  {
   "cell_type": "code",
   "execution_count": 3,
   "metadata": {},
   "outputs": [],
   "source": [
    "all_words = str.split(t, ' ')\n",
    "unique_words = set(all_words)"
   ]
  },
  {
   "cell_type": "code",
   "execution_count": 4,
   "metadata": {},
   "outputs": [
    {
     "name": "stdout",
     "output_type": "stream",
     "text": [
      "3\n"
     ]
    }
   ],
   "source": [
    "k = 0\n",
    "for word in unique_words:\n",
    "    if all_words.count(word) > 3:\n",
    "        k += 1\n",
    "print(k)"
   ]
  },
  {
   "cell_type": "markdown",
   "metadata": {},
   "source": [
    "Задача 2"
   ]
  },
  {
   "cell_type": "code",
   "execution_count": 1,
   "metadata": {},
   "outputs": [
    {
     "name": "stdout",
     "output_type": "stream",
     "text": [
      "46\n",
      "84\n",
      "46\n",
      "Студент справится с курсом\n"
     ]
    }
   ],
   "source": [
    "interest = float(input())\n",
    "talent = float(input())\n",
    "diligence = float(input())\n",
    "res = 0.4*interest + 0.2*talent + 0.4*diligence\n",
    "if res >= 10+2**(-6):\n",
    "    print('Студент справится с курсом')\n",
    "else:\n",
    "    print('Студент не справится с курсом')"
   ]
  },
  {
   "cell_type": "markdown",
   "metadata": {},
   "source": [
    "Задача 3"
   ]
  },
  {
   "cell_type": "code",
   "execution_count": 2,
   "metadata": {},
   "outputs": [
    {
     "data": {
      "text/plain": [
       "\"Asia is the world's largest continent. A place with e734h112@! unique cultural heritage, Asia is home to more than 3.8 billion people, making it the crcrc567! most populous continent on Earth. Even today people around 1237dg39! Asia hold festivals celebrating the deeds of heroes and animals from ancient folklore.\\nThe collection of folktales from Asia consists of fourteen books !! with 353 stories: 55 Arabic folktales, 104 Chinese folktales, 69 Indian folktales, 69 Japanese folktales and 61 Filipino folktales.\""
      ]
     },
     "execution_count": 2,
     "metadata": {},
     "output_type": "execute_result"
    }
   ],
   "source": [
    "f1 = open('text_first_task.txt')\n",
    "t1 = f1.read()\n",
    "f1.close()\n",
    "t1"
   ]
  },
  {
   "cell_type": "code",
   "execution_count": 3,
   "metadata": {},
   "outputs": [
    {
     "data": {
      "text/plain": [
       "'Asia is the world s largest continent  A place with e734h112   unique cultural heritage  Asia is home to more than 3 8 billion people  making it the crcrc567  most populous continent on Earth  Even today people around 1237dg39  Asia hold festivals celebrating the deeds of heroes and animals from ancient folklore  The collection of folktales from Asia consists of fourteen books    with 353 stories  55 Arabic folktales  104 Chinese folktales  69 Indian folktales  69 Japanese folktales and 61 Filipino folktales '"
      ]
     },
     "execution_count": 3,
     "metadata": {},
     "output_type": "execute_result"
    }
   ],
   "source": [
    "for i in range (len(t1)):\n",
    "    if  not(t1[i].isdigit() or t1[i].isalpha()): \n",
    "        t1 = t1.replace(t1[i], ' ')\n",
    "t1"
   ]
  },
  {
   "cell_type": "markdown",
   "metadata": {},
   "source": [
    "Задача 4"
   ]
  },
  {
   "cell_type": "code",
   "execution_count": 8,
   "metadata": {},
   "outputs": [
    {
     "name": "stdout",
     "output_type": "stream",
     "text": [
      "ALJGH!\n",
      "Не пароль\n"
     ]
    }
   ],
   "source": [
    "p = str(input())\n",
    "length = len(p) > 6\n",
    "big_letter = any(map(str.isupper, p))\n",
    "num = any(map(str.isdigit, p))\n",
    "symbol = not (p.isalnum())\n",
    "if length and big_letter and num and symbol:\n",
    "    print('Пароль')\n",
    "else:\n",
    "    print('Не пароль')"
   ]
  },
  {
   "cell_type": "markdown",
   "metadata": {},
   "source": [
    "Задача 5"
   ]
  },
  {
   "cell_type": "code",
   "execution_count": 9,
   "metadata": {},
   "outputs": [],
   "source": [
    "f2 = open('passwords.txt')\n",
    "t2 = f2.read()\n",
    "f2.close()"
   ]
  },
  {
   "cell_type": "code",
   "execution_count": 10,
   "metadata": {},
   "outputs": [],
   "source": [
    "lines = str.split(t2, '\\n')"
   ]
  },
  {
   "cell_type": "code",
   "execution_count": 11,
   "metadata": {},
   "outputs": [],
   "source": [
    "def password(p):\n",
    "    length = len(p) > 6\n",
    "    big_letter = any(map(str.isupper, p))\n",
    "    num = any(map(str.isdigit, p))\n",
    "    symbol = not (p.isalnum())\n",
    "    return (length and big_letter and num and symbol)"
   ]
  },
  {
   "cell_type": "code",
   "execution_count": 12,
   "metadata": {},
   "outputs": [
    {
     "data": {
      "text/plain": [
       "['Christmas!2017']"
      ]
     },
     "execution_count": 12,
     "metadata": {},
     "output_type": "execute_result"
    }
   ],
   "source": [
    "passwords = []\n",
    "for i in range(len(lines)):\n",
    "    if password(lines[i]):\n",
    "        passwords.append(lines[i])\n",
    "passwords"
   ]
  },
  {
   "cell_type": "code",
   "execution_count": null,
   "metadata": {},
   "outputs": [],
   "source": []
  }
 ],
 "metadata": {
  "kernelspec": {
   "display_name": "Python 3",
   "language": "python",
   "name": "python3"
  },
  "language_info": {
   "codemirror_mode": {
    "name": "ipython",
    "version": 3
   },
   "file_extension": ".py",
   "mimetype": "text/x-python",
   "name": "python",
   "nbconvert_exporter": "python",
   "pygments_lexer": "ipython3",
   "version": "3.6.5"
  }
 },
 "nbformat": 4,
 "nbformat_minor": 2
}
